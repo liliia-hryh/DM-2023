{
 "cells": [
  {
   "cell_type": "markdown",
   "id": "b62131fb",
   "metadata": {
    "slideshow": {
     "slide_type": "slide"
    }
   },
   "source": [
    "# SQL-технології для видобутку та збагачення даних"
   ]
  },
  {
   "cell_type": "markdown",
   "id": "3b88382d",
   "metadata": {
    "slideshow": {
     "slide_type": "slide"
    }
   },
   "source": [
    "1. #### Огляд, властивості та призначення БД SQLite\n",
    "2. #### Встановлення SQLite та робота з CLI\n",
    "3. #### Огляд високорівневих додатків для SQLite\n",
    "4. #### Встановлення та настроювання python-бібліотеки *sqlite3*\n",
    "5. #### Основні *api* для роботи з sqlite3\n",
    "6. #### Відобуток та збагаченя реляційних даних"
   ]
  },
  {
   "cell_type": "markdown",
   "id": "7dcf8f14",
   "metadata": {
    "slideshow": {
     "slide_type": "slide"
    }
   },
   "source": [
    "## 1. Огляд, властивості та призначення БД SQLite"
   ]
  },
  {
   "attachments": {
    "image.png": {
     "image/png": "[encoded data removed]"
    }
   },
   "cell_type": "markdown",
   "id": "a1fafb2b",
   "metadata": {
    "slideshow": {
     "slide_type": "subslide"
    }
   },
   "source": [
    "![image.png](attachment:image.png)\n",
    "\n",
    "[__SQLite__](https://ru.wikipedia.org/wiki/SQLite) - це [вбудована бібліотека](https://ru.wikipedia.org/wiki/Встраиваемая_СУБД) в якій реалізовано [стандарт SQL 92](https://ru.wikipedia.org/wiki/SQL-92)\n",
    "\n"
   ]
  },
  {
   "cell_type": "markdown",
   "id": "befaf9e1",
   "metadata": {
    "slideshow": {
     "slide_type": "subslide"
    }
   },
   "source": [
    "- [__Домашня сторінка проекту__](https://www.sqlite.org/)\n",
    "- [__Документація__](https://www.sqlite.org/docs.html)\n",
    "- [__GitHub репозиторій__](https://github.com/sqlite/sqlite)"
   ]
  },
  {
   "cell_type": "markdown",
   "id": "88c3475f",
   "metadata": {
    "slideshow": {
     "slide_type": "subslide"
    }
   },
   "source": [
    "[__Популярність SQLite__](https://trends.google.ru/trends/explore?date=today%205-y&q=%2Fm%2F01kgq9,%2Fm%2F04y3k,MS%20SQL,%2Fm%2F05ynw)"
   ]
  },
  {
   "cell_type": "markdown",
   "id": "7b80ca25",
   "metadata": {
    "slideshow": {
     "slide_type": "subslide"
    }
   },
   "source": [
    "__ПЕРЕВАГИ__:\n",
    "- Дуже популярна (браузери, мобільні пристрої, IOT ...)\n",
    "- Відносно надійна\n",
    "- Консольна утиліта для роботи з базами (CLI)\n",
    "- Відкриті вихідні коди"
   ]
  },
  {
   "cell_type": "markdown",
   "id": "f7f547af",
   "metadata": {
    "slideshow": {
     "slide_type": "subslide"
    }
   },
   "source": [
    "__НЕДОЛІКИ__:\n",
    "- Немає процедур, що зберігаються.\n",
    "- Немає вбудованої підтримки UNICODE\n",
    "- Не підходить для програм, які часто звертаються до бази"
   ]
  },
  {
   "cell_type": "markdown",
   "id": "5d3943fc",
   "metadata": {
    "slideshow": {
     "slide_type": "slide"
    }
   },
   "source": [
    "## 2. Встановлення SQLite та робота з CLI"
   ]
  },
  {
   "cell_type": "markdown",
   "id": "a4585581",
   "metadata": {
    "slideshow": {
     "slide_type": "subslide"
    }
   },
   "source": [
    "Завантаження та встановлення __SQLite__ на локальний комп'ютер з [Офіційного сайту](https://www.sqlite.org/index.html)"
   ]
  },
  {
   "cell_type": "code",
   "execution_count": 1,
   "id": "169f820c",
   "metadata": {
    "slideshow": {
     "slide_type": "subslide"
    }
   },
   "outputs": [
    {
     "name": "stdout",
     "output_type": "stream",
     "text": [
      "3.40.1 2022-12-28 14:03:47 df5c253c0b3dd24916e4ec7cf77d3db5294cc9fd45ae7b9c5e82ad8197f38a24\r\n"
     ]
    }
   ],
   "source": [
    "# перевірка встановлення та поточної версії\n",
    "!sqlite3 --version"
   ]
  },
  {
   "cell_type": "markdown",
   "id": "36f39fb1",
   "metadata": {
    "slideshow": {
     "slide_type": "subslide"
    }
   },
   "source": [
    "__Запуск з командного рядка__: `sqlite3`, за яким слід вказати ім’я файлу, який містить базу даних SQLite. \n",
    "- Якщо файл не існує, новий файл бази даних буде створено автоматично. \n",
    "- Якщо в командному рядку не вказано файл бази даних, створюється тимчасова база даних, яка автоматично видаляється після завершення роботи програми `sqlite3`."
   ]
  },
  {
   "cell_type": "code",
   "execution_count": null,
   "id": "25c26a76",
   "metadata": {
    "scrolled": false,
    "slideshow": {
     "slide_type": "subslide"
    }
   },
   "outputs": [],
   "source": [
    "# запуск sqlite\n",
    "!sqlite3\n",
    "\n",
    "\n",
    "# вихід з # вихід з CLI SQLite\n",
    "!.quit"
   ]
  },
  {
   "cell_type": "markdown",
   "id": "b239c787",
   "metadata": {
    "slideshow": {
     "slide_type": "subslide"
    }
   },
   "source": [
    "__вивід dot-команд shell SQLite__\n",
    "\n",
    ".help"
   ]
  },
  {
   "cell_type": "markdown",
   "id": "340d79cd",
   "metadata": {
    "slideshow": {
     "slide_type": "subslide"
    }
   },
   "source": [
    "__Основні dot-команди SQLite__\n",
    "- `.databases` Перелік імен і файлів приєднаних баз даних\n",
    "- `.dbinfo <dbname>` Показати інформацію про стан бази даних\n",
    "- `.import FILE TABLE` Імпорт даних з FILE в TABLE\n",
    "- `.indexes TABLE` Показати назви індексів в таблиці БД\n",
    "- `.shell <os cli>` Виконати команду CLI OS"
   ]
  },
  {
   "cell_type": "markdown",
   "id": "48950336",
   "metadata": {
    "slideshow": {
     "slide_type": "subslide"
    }
   },
   "source": [
    "- `.read FILE` Читання  даних з FILE\n",
    "- `.recover` Відновити якомога більше даних із пошкодженої БД\n",
    "- `.show` Показати поточні значення для різних налаштувань\n",
    "- `.tables` Список назв таблиць в поточній БД\n",
    "- `.mode` Встановити режим виведення\n",
    "- `.exit <code>` Вихід з кодом повернення CODE"
   ]
  },
  {
   "cell_type": "markdown",
   "id": "47b0d794",
   "metadata": {
    "slideshow": {
     "slide_type": "subslide"
    }
   },
   "source": [
    "__ОПЕРАЦІЇ З ТАБЛИЦЯМИ ЗА ДОПОМОГОЮ `SQL`__\n",
    "\n",
    "- [Документація SQLite](https://www.sqlite.org/lang.html)\n",
    "- [Онлайн підручник](https://www.w3schools.com/sql/sql_intro.asp)"
   ]
  },
  {
   "cell_type": "markdown",
   "id": "eb9e7907",
   "metadata": {
    "slideshow": {
     "slide_type": "slide"
    }
   },
   "source": [
    "## 3. Огляд високорівневих додатків для SQLite"
   ]
  },
  {
   "cell_type": "markdown",
   "id": "b8c0ca55",
   "metadata": {
    "slideshow": {
     "slide_type": "subslide"
    }
   },
   "source": [
    "- [__Valentina Studio__](https://www.valentina-db.com/ru/valentina-studio-overview)\n",
    "- [__SQLiteStudio__](https://sqlitestudio.pl)\n",
    "- [__SQLite Manager для Google Chrome™__](https://sqlmanager.freebusinessapps.net)\n",
    "- ..."
   ]
  },
  {
   "cell_type": "markdown",
   "id": "0b3ad439",
   "metadata": {
    "slideshow": {
     "slide_type": "subslide"
    }
   },
   "source": [
    "[__DB Browser for SQLite__](https://sqlitebrowser.org) — це високоякісний візуальний інструмент з [відкритим кодом](https://github.com/sqlitebrowser/sqlitebrowser) для створення, проектування та редагування файлів бази даних, сумісних із SQLite\n"
   ]
  },
  {
   "cell_type": "markdown",
   "id": "3cf7f4c2",
   "metadata": {
    "slideshow": {
     "slide_type": "slide"
    }
   },
   "source": [
    "## 4. Встановлення та настроювання python-бібліотеки *sqlite3*"
   ]
  },
  {
   "cell_type": "markdown",
   "id": "37bb16ba",
   "metadata": {
    "slideshow": {
     "slide_type": "slide"
    }
   },
   "source": [
    "[SQLite](https://docs.python.org/3/library/sqlite3.html) — це бібліотека C, яка надає легку дискову базу даних, яка не вимагає окремого серверного процесу та дозволяє отримати доступ до бази даних за допомогою мови запитів SQL."
   ]
  },
  {
   "cell_type": "code",
   "execution_count": 5,
   "id": "a85abdbc",
   "metadata": {
    "slideshow": {
     "slide_type": "subslide"
    }
   },
   "outputs": [
    {
     "name": "stdout",
     "output_type": "stream",
     "text": [
      "sqlite                    3.40.1               h880c91c_0  \r\n"
     ]
    }
   ],
   "source": [
    "# перевірка наявності бібліотеки sqlite\n",
    "!conda list | grep sqlite "
   ]
  },
  {
   "cell_type": "markdown",
   "id": "87e6d22b",
   "metadata": {
    "slideshow": {
     "slide_type": "subslide"
    }
   },
   "source": [
    "Встановити python-драйвер `sqlite` [з репозиторію пакетів __PyPi__](https://pypi.org/project/db-sqlite3/)"
   ]
  },
  {
   "cell_type": "code",
   "execution_count": 1,
   "id": "ef8146f8",
   "metadata": {
    "slideshow": {
     "slide_type": "subslide"
    }
   },
   "outputs": [],
   "source": [
    "# підключення SQLite\n",
    "import sqlite3 as sqlite"
   ]
  },
  {
   "cell_type": "markdown",
   "id": "c76b411e",
   "metadata": {
    "slideshow": {
     "slide_type": "slide"
    }
   },
   "source": [
    "## 5. Основні *api* для роботи з sqlite3"
   ]
  },
  {
   "cell_type": "code",
   "execution_count": 2,
   "id": "8151e7fe",
   "metadata": {
    "collapsed": true,
    "slideshow": {
     "slide_type": "subslide"
    }
   },
   "outputs": [
    {
     "data": {
      "text/plain": [
       "['Binary',\n",
       " 'Connection',\n",
       " 'Cursor',\n",
       " 'DataError',\n",
       " 'DatabaseError',\n",
       " 'Date',\n",
       " 'DateFromTicks',\n",
       " 'Error',\n",
       " 'IntegrityError',\n",
       " 'InterfaceError',\n",
       " 'InternalError',\n",
       " 'NotSupportedError',\n",
       " 'OperationalError',\n",
       " 'OptimizedUnicode',\n",
       " 'PARSE_COLNAMES',\n",
       " 'PARSE_DECLTYPES',\n",
       " 'PrepareProtocol',\n",
       " 'ProgrammingError',\n",
       " 'Row',\n",
       " 'SQLITE_ALTER_TABLE',\n",
       " 'SQLITE_ANALYZE',\n",
       " 'SQLITE_ATTACH',\n",
       " 'SQLITE_CREATE_INDEX',\n",
       " 'SQLITE_CREATE_TABLE',\n",
       " 'SQLITE_CREATE_TEMP_INDEX',\n",
       " 'SQLITE_CREATE_TEMP_TABLE',\n",
       " 'SQLITE_CREATE_TEMP_TRIGGER',\n",
       " 'SQLITE_CREATE_TEMP_VIEW',\n",
       " 'SQLITE_CREATE_TRIGGER',\n",
       " 'SQLITE_CREATE_VIEW',\n",
       " 'SQLITE_CREATE_VTABLE',\n",
       " 'SQLITE_DELETE',\n",
       " 'SQLITE_DENY',\n",
       " 'SQLITE_DETACH',\n",
       " 'SQLITE_DONE',\n",
       " 'SQLITE_DROP_INDEX',\n",
       " 'SQLITE_DROP_TABLE',\n",
       " 'SQLITE_DROP_TEMP_INDEX',\n",
       " 'SQLITE_DROP_TEMP_TABLE',\n",
       " 'SQLITE_DROP_TEMP_TRIGGER',\n",
       " 'SQLITE_DROP_TEMP_VIEW',\n",
       " 'SQLITE_DROP_TRIGGER',\n",
       " 'SQLITE_DROP_VIEW',\n",
       " 'SQLITE_DROP_VTABLE',\n",
       " 'SQLITE_FUNCTION',\n",
       " 'SQLITE_IGNORE',\n",
       " 'SQLITE_INSERT',\n",
       " 'SQLITE_OK',\n",
       " 'SQLITE_PRAGMA',\n",
       " 'SQLITE_READ',\n",
       " 'SQLITE_RECURSIVE',\n",
       " 'SQLITE_REINDEX',\n",
       " 'SQLITE_SAVEPOINT',\n",
       " 'SQLITE_SELECT',\n",
       " 'SQLITE_TRANSACTION',\n",
       " 'SQLITE_UPDATE',\n",
       " 'Time',\n",
       " 'TimeFromTicks',\n",
       " 'Timestamp',\n",
       " 'TimestampFromTicks',\n",
       " 'Warning',\n",
       " '__builtins__',\n",
       " '__cached__',\n",
       " '__doc__',\n",
       " '__file__',\n",
       " '__loader__',\n",
       " '__name__',\n",
       " '__package__',\n",
       " '__path__',\n",
       " '__spec__',\n",
       " 'adapt',\n",
       " 'adapters',\n",
       " 'apilevel',\n",
       " 'collections',\n",
       " 'complete_statement',\n",
       " 'connect',\n",
       " 'converters',\n",
       " 'datetime',\n",
       " 'dbapi2',\n",
       " 'enable_callback_tracebacks',\n",
       " 'enable_shared_cache',\n",
       " 'paramstyle',\n",
       " 'register_adapter',\n",
       " 'register_converter',\n",
       " 'sqlite_version',\n",
       " 'sqlite_version_info',\n",
       " 'threadsafety',\n",
       " 'time',\n",
       " 'version',\n",
       " 'version_info']"
      ]
     },
     "execution_count": 2,
     "metadata": {},
     "output_type": "execute_result"
    }
   ],
   "source": [
    "dir(sqlite)"
   ]
  },
  {
   "cell_type": "markdown",
   "id": "f94bd950",
   "metadata": {
    "slideshow": {
     "slide_type": "subslide"
    }
   },
   "source": [
    "__Типи даних SQLite у Python__:\n",
    "- __NULL__ – значення NULL\n",
    "- __INTEGER__ - ціле число\n",
    "- __REAL__ - число з плаваючою точкою\n",
    "- __TEXT__ - текст\n",
    "- __BLOB__ - бінарне уявлення великих об'єктів, що зберігається так, як його ввели"
   ]
  },
  {
   "cell_type": "markdown",
   "id": "b529655a",
   "metadata": {
    "slideshow": {
     "slide_type": "slide"
    }
   },
   "source": [
    "### 5.1 Основні об'єкти sqlite3"
   ]
  },
  {
   "cell_type": "markdown",
   "id": "9b610c47",
   "metadata": {
    "slideshow": {
     "slide_type": "subslide"
    }
   },
   "source": [
    "#### 1. Об'єкт [__connection__](https://docs.python.org/3/library/sqlite3.html?highlight=connection#sqlite3.Connection)\n",
    "\n",
    "відповідає за створення БД та утворення зв'язку з нею"
   ]
  },
  {
   "cell_type": "code",
   "execution_count": 3,
   "id": "90d4e2a1",
   "metadata": {
    "slideshow": {
     "slide_type": "subslide"
    }
   },
   "outputs": [],
   "source": [
    "sqlite.connect?"
   ]
  },
  {
   "cell_type": "code",
   "execution_count": 12,
   "id": "4903496a",
   "metadata": {
    "slideshow": {
     "slide_type": "subslide"
    }
   },
   "outputs": [],
   "source": [
    "# якщо файла БД не існує? то він буде створений\n",
    "conn = sqlite.connect('districts')\n",
    "conn?"
   ]
  },
  {
   "cell_type": "code",
   "execution_count": 5,
   "id": "95685dcf",
   "metadata": {
    "collapsed": true
   },
   "outputs": [
    {
     "name": "stdout",
     "output_type": "stream",
     "text": [
      "['DataError', 'DatabaseError', 'Error', 'IntegrityError', 'InterfaceError', 'InternalError', 'NotSupportedError', 'OperationalError', 'ProgrammingError', 'Warning', '__call__', '__class__', '__delattr__', '__dir__', '__doc__', '__enter__', '__eq__', '__exit__', '__format__', '__ge__', '__getattribute__', '__gt__', '__hash__', '__init__', '__init_subclass__', '__le__', '__lt__', '__ne__', '__new__', '__reduce__', '__reduce_ex__', '__repr__', '__setattr__', '__sizeof__', '__str__', '__subclasshook__', 'backup', 'close', 'commit', 'create_aggregate', 'create_collation', 'create_function', 'cursor', 'enable_load_extension', 'execute', 'executemany', 'executescript', 'in_transaction', 'interrupt', 'isolation_level', 'iterdump', 'load_extension', 'rollback', 'row_factory', 'set_authorizer', 'set_progress_handler', 'set_trace_callback', 'text_factory', 'total_changes']\n"
     ]
    }
   ],
   "source": [
    "print(dir(conn))"
   ]
  },
  {
   "cell_type": "code",
   "execution_count": 6,
   "id": "95183f36",
   "metadata": {},
   "outputs": [],
   "source": [
    "# Резидентна база даних (in-memory) зєднання :memory:\n",
    "mem_conn = sqlite.connect(\":memory:\")"
   ]
  },
  {
   "cell_type": "markdown",
   "id": "48e90918",
   "metadata": {
    "slideshow": {
     "slide_type": "slide"
    }
   },
   "source": [
    "#### 2. Об'єкт [__cursor__](https://docs.python.org/3/library/sqlite3.html?highlight=cursor#sqlite3.Cursor)\n",
    "\n",
    "Дозволяє робити SQL-запити до бази"
   ]
  },
  {
   "cell_type": "code",
   "execution_count": null,
   "id": "f5a394fb",
   "metadata": {},
   "outputs": [],
   "source": [
    "conn = sqlite"
   ]
  },
  {
   "cell_type": "code",
   "execution_count": 7,
   "id": "2695990f",
   "metadata": {
    "slideshow": {
     "slide_type": "subslide"
    }
   },
   "outputs": [],
   "source": [
    "# створення об'єкта cursor\n",
    "cur = conn.cursor()\n",
    "?cur"
   ]
  },
  {
   "cell_type": "code",
   "execution_count": null,
   "id": "bf89701d",
   "metadata": {
    "slideshow": {
     "slide_type": "subslide"
    }
   },
   "outputs": [],
   "source": [
    "# список методів та властивостей 'cursor'\n",
    "dir(cur)"
   ]
  },
  {
   "cell_type": "markdown",
   "id": "0e457d5a",
   "metadata": {
    "slideshow": {
     "slide_type": "subslide"
    }
   },
   "source": [
    "#### стандартна схема виконання sql-запитів без повернення результатів\n",
    "[__cursor.execute(<sql-запит>)__](https://docs.python.org/3/library/sqlite3.html?highlight=execute#sqlite3.Cursor.execute)\n",
    "\n",
    "__...__\n",
    "\n",
    "[__connection.commit()__](https://docs.python.org/3/library/sqlite3.html?highlight=execute#sqlite3.Cursor.execute)"
   ]
  },
  {
   "cell_type": "code",
   "execution_count": 18,
   "id": "1c7c91c8",
   "metadata": {},
   "outputs": [
    {
     "name": "stdout",
     "output_type": "stream",
     "text": [
      "SQLite-Copy1.ipynb     districts              kiev-districts-journal\r\n",
      "SQLite.ipynb           kiev-districts         kiev-districts.csv\r\n"
     ]
    }
   ],
   "source": [
    "!ls"
   ]
  },
  {
   "cell_type": "code",
   "execution_count": 19,
   "id": "f704a4ac",
   "metadata": {
    "slideshow": {
     "slide_type": "subslide"
    }
   },
   "outputs": [
    {
     "ename": "OperationalError",
     "evalue": "no such table: districts",
     "output_type": "error",
     "traceback": [
      "\u001b[0;31m---------------------------------------------------------------------------\u001b[0m",
      "\u001b[0;31mOperationalError\u001b[0m                          Traceback (most recent call last)",
      "Input \u001b[0;32mIn [19]\u001b[0m, in \u001b[0;36m<module>\u001b[0;34m\u001b[0m\n\u001b[1;32m      1\u001b[0m sql \u001b[38;5;241m=\u001b[39m \u001b[38;5;124m\"\"\"\u001b[39m\u001b[38;5;124mDELETE FROM districts WHERE district = \u001b[39m\u001b[38;5;124m'\u001b[39m\u001b[38;5;124mСвятошинський\u001b[39m\u001b[38;5;124m'\u001b[39m\u001b[38;5;124m\"\"\"\u001b[39m\n\u001b[0;32m----> 2\u001b[0m \u001b[43mcur\u001b[49m\u001b[38;5;241;43m.\u001b[39;49m\u001b[43mexecute\u001b[49m\u001b[43m(\u001b[49m\u001b[43msql\u001b[49m\u001b[43m)\u001b[49m\n\u001b[1;32m      3\u001b[0m conn\u001b[38;5;241m.\u001b[39mcommit()\n",
      "\u001b[0;31mOperationalError\u001b[0m: no such table: districts"
     ]
    }
   ],
   "source": [
    "sql = \"\"\"DELETE FROM districts WHERE district = 'Святошинський'\"\"\"\n",
    "cur.execute(sql)\n",
    "conn.commit()"
   ]
  },
  {
   "cell_type": "markdown",
   "id": "1f7d0eef",
   "metadata": {
    "slideshow": {
     "slide_type": "subslide"
    }
   },
   "source": [
    "#### виконання sql-запитів з поверненням результатів\n",
    "[__cursor.execute(<sql-запит>)__](https://docs.python.org/3/library/sqlite3.html?highlight=execute#sqlite3.Cursor.execute)\n",
    "\n",
    "[__cursor.fetch...()__](https://docs.python.org/3/library/sqlite3.html?highlight=fetch#sqlite3.Cursor.fetchone)\n",
    "__...__\n"
   ]
  },
  {
   "cell_type": "code",
   "execution_count": 23,
   "id": "225dd0f1",
   "metadata": {
    "scrolled": true,
    "slideshow": {
     "slide_type": "subslide"
    }
   },
   "outputs": [
    {
     "ename": "OperationalError",
     "evalue": "no such table: kiev_districts",
     "output_type": "error",
     "traceback": [
      "\u001b[0;31m---------------------------------------------------------------------------\u001b[0m",
      "\u001b[0;31mOperationalError\u001b[0m                          Traceback (most recent call last)",
      "Input \u001b[0;32mIn [23]\u001b[0m, in \u001b[0;36m<module>\u001b[0;34m\u001b[0m\n\u001b[1;32m      1\u001b[0m \u001b[38;5;66;03m# вивести 10 записів \u001b[39;00m\n\u001b[0;32m----> 2\u001b[0m \u001b[43mcur\u001b[49m\u001b[38;5;241;43m.\u001b[39;49m\u001b[43mexecute\u001b[49m\u001b[43m(\u001b[49m\u001b[38;5;124;43m\"\u001b[39;49m\u001b[38;5;124;43mSELECT * FROM \u001b[39;49m\u001b[38;5;124;43m'\u001b[39;49m\u001b[38;5;124;43mkiev_districts\u001b[39;49m\u001b[38;5;124;43m'\u001b[39;49m\u001b[38;5;124;43m\"\u001b[39;49m\u001b[43m)\u001b[49m\n\u001b[1;32m      3\u001b[0m res \u001b[38;5;241m=\u001b[39m cur\u001b[38;5;241m.\u001b[39mfetchmany(\u001b[38;5;241m3\u001b[39m)\n\u001b[1;32m      4\u001b[0m \u001b[38;5;28mprint\u001b[39m(res)\n",
      "\u001b[0;31mOperationalError\u001b[0m: no such table: kiev_districts"
     ]
    }
   ],
   "source": [
    "# вивести 10 записів \n",
    "cur.execute(\"SELECT * FROM 'kiev_districts'\")\n",
    "res = cur.fetchmany(3)\n",
    "print(res)"
   ]
  },
  {
   "cell_type": "markdown",
   "id": "575a60a2",
   "metadata": {
    "slideshow": {
     "slide_type": "slide"
    }
   },
   "source": [
    "## 6. Видобуток та збагаченя реляційних даних"
   ]
  },
  {
   "cell_type": "markdown",
   "id": "94d1780b",
   "metadata": {
    "slideshow": {
     "slide_type": "subslide"
    }
   },
   "source": [
    "__Збагачення даних__ - це об’єднання даних із зовнішнього  джерела з наявною базою даних з метою покращання даних, та набуття їми більшої інформативності та цінності."
   ]
  },
  {
   "cell_type": "markdown",
   "id": "e34f1cd2",
   "metadata": {
    "slideshow": {
     "slide_type": "subslide"
    }
   },
   "source": [
    "__Методи збагачення даних__:\n",
    "\n",
    "- *Діагностування* - перевірка даних на предмет виявлення помилок, пустих значень, викидів та ін.\n",
    "- *Очистка* -  передбачає видалення повторюваних, недійсних та неактивних записів, а також забезпечення точності й актуальності даних у цих записах.\n",
    "- *Збагачення* - приведення показчиків до виду, що полегшує іх сприйняття та аналіз \n",
    "- *Додавання* - додавання до існуючого набіру нових показчиків із заданого контексту\n"
   ]
  },
  {
   "cell_type": "markdown",
   "id": "ac123fd9",
   "metadata": {
    "slideshow": {
     "slide_type": "slide"
    }
   },
   "source": [
    "# ПИТАННЯ ? "
   ]
  }
 ],
 "metadata": {
  "celltoolbar": "Slideshow",
  "kernelspec": {
   "display_name": "Python 3 (ipykernel)",
   "language": "python",
   "name": "python3"
  },
  "language_info": {
   "codemirror_mode": {
    "name": "ipython",
    "version": 3
   },
   "file_extension": ".py",
   "mimetype": "text/x-python",
   "name": "python",
   "nbconvert_exporter": "python",
   "pygments_lexer": "ipython3",
   "version": "3.11.0"
  },
  "varInspector": {
   "cols": {
    "lenName": 16,
    "lenType": 16,
    "lenVar": 40
   },
   "kernels_config": {
    "python": {
     "delete_cmd_postfix": "",
     "delete_cmd_prefix": "del ",
     "library": "var_list.py",
     "varRefreshCmd": "print(var_dic_list())"
    },
    "r": {
     "delete_cmd_postfix": ") ",
     "delete_cmd_prefix": "rm(",
     "library": "var_list.r",
     "varRefreshCmd": "cat(var_dic_list()) "
    }
   },
   "types_to_exclude": [
    "module",
    "function",
    "builtin_function_or_method",
    "instance",
    "_Feature"
   ],
   "window_display": false
  }
 },
 "nbformat": 4,
 "nbformat_minor": 5
}
